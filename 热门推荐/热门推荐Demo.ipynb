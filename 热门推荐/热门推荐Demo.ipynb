{
 "cells": [
  {
   "cell_type": "code",
   "execution_count": 4,
   "metadata": {},
   "outputs": [],
   "source": [
    "import pandas as pd\n",
    "import numpy as np\n",
    "from scipy.stats import norm"
   ]
  },
  {
   "cell_type": "markdown",
   "metadata": {},
   "source": [
    "## 解决平均得分问题\n",
    "\n",
    "平均得分算法：\n",
    "\n",
    "1. 直接用平均数。问题是，可能分布完全和想象的不一样。\n",
    "2. 直接用比例。容易造成，评分数很少的商品被推荐。\n",
    "\n",
    "解决方案：\n",
    "\n",
    "使用`Wilson Score`。Wilson Score要解决的问题是「给定一个系列评分，有95%的可能性，「真的」正面例子的比例上下界是多少」。计算方法是：\n",
    "\n",
    "$$\\frac{(\\hat{p} + \\frac{z^2_{\\alpha/2}}{2n} \\pm z_{\\alpha/2} \\sqrt {[\\hat{p}(1 - \\hat{p}) + z^2_{\\alpha/2} / 4n] / n)}} {(1 + z^2_{\\alpha/2}/n)}$$\n",
    "\n",
    "ruby伪代码：\n",
    "\n",
    "```ruby\n",
    "require 'statistics2'\n",
    "\n",
    "def ci_lower_bound(pos, n, confidence)\n",
    "    if n == 0\n",
    "        return 0\n",
    "    end\n",
    "    z = Statistics2.pnormaldist(1-(1-confidence)/2)\n",
    "    phat = 1.0*pos/n\n",
    "    (phat + z*z/(2*n) - z * Math.sqrt((phat*(1-phat)+z*z/(4*n))/n))/(1+z*z/n)\n",
    "end\n",
    "```\n",
    "\n",
    "其中$\\hat{p}$是正面评价的比例，$z_{\\alpha/2}$是高斯分布的$1 - \\alpha / 2$的分位数。"
   ]
  },
  {
   "cell_type": "code",
   "execution_count": 22,
   "metadata": {},
   "outputs": [],
   "source": [
    "## 解决平均得分问题\n",
    "def ci_bound(pos, n, confidence=0.95):\n",
    "    if n == 0:\n",
    "        return 0\n",
    "    z = norm.ppf(1 - (1 - confidence) / 2)\n",
    "    phat = pos / n \n",
    "    return ((phat + z ** 2 / (2 * n) - z * np.sqrt((phat * (1 - phat) + z ** 2 / (4 * n )) /n )) / \\\n",
    "            (1 + z ** 2 / n), \\\n",
    "           (phat + z ** 2 / (2 * n) + z * np.sqrt((phat * (1 - phat) + z ** 2 / (4 * n )) /n )) / \\\n",
    "            (1 + z ** 2 / n), ) "
   ]
  },
  {
   "cell_type": "markdown",
   "metadata": {},
   "source": [
    "## Hacker New的排名机制\n",
    "\n",
    "\n",
    "\n",
    "```lisp\n",
    "; Votes divided by the age in hours to the gravityth power.\n",
    "; Would be interesting to scale gravity in a slider.\n",
    "\n",
    "(= gravity* 1.8 timebase* 120 front-threshold* 1 \n",
    "   nourl-factor* .4 lightweight-factor* .3 )\n",
    "\n",
    "(def frontpage-rank (s (o scorefn realscore) (o gravity gravity*))\n",
    "  (* (/ (let base (- (scorefn s) 1)\n",
    "          (if (> base 0) (expt base .8) base))\n",
    "        (expt (/ (+ (item-age s) timebase*) 60) gravity))\n",
    "     (if (no (in s!type 'story 'poll))  1\n",
    "         (blank s!url)                  nourl-factor*\n",
    "         (lightweight s)                (min lightweight-factor* \n",
    "                                             (contro-factor s))\n",
    "                                        (contro-factor s))))\n",
    "```\n",
    "\n",
    "基本可以总结为：\n",
    "\n",
    "```\n",
    "Score = (P-1) / (T+2)^G\n",
    "\n",
    "where,\n",
    "P = points of an item (and -1 is to negate submitters vote)\n",
    "T = time since submission (in hours)\n",
    "G = Gravity, defaults to 1.8 in news.arc\n",
    "```\n"
   ]
  },
  {
   "cell_type": "markdown",
   "metadata": {},
   "source": [
    "## Reddit排名机制\n",
    "\n",
    "$$f(t_s, y, z) = log_{10}{z} + \\frac{yt_s}{45000}$$\n",
    "\n",
    "其中，$t_s = t_{post} - t_{now}$， $x = Up\\_num - Down\\_num$, $y = |x|\\,if\\, x > 1 \\, else\\, 1$"
   ]
  }
 ],
 "metadata": {
  "kernelspec": {
   "display_name": "Python 3",
   "language": "python",
   "name": "python3"
  },
  "language_info": {
   "codemirror_mode": {
    "name": "ipython",
    "version": 3
   },
   "file_extension": ".py",
   "mimetype": "text/x-python",
   "name": "python",
   "nbconvert_exporter": "python",
   "pygments_lexer": "ipython3",
   "version": "3.6.5"
  }
 },
 "nbformat": 4,
 "nbformat_minor": 2
}
